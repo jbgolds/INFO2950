{
 "cells": [
  {
   "cell_type": "markdown",
   "metadata": {},
   "source": [
    "Here is our idea chosen from milestone 1:  \n",
    "\n",
    "\"Looking at time series data from NHL draft pics since 1960s. Over the years, there has been a drastic change in the style of hockey being played in the NHL. The 70s through the 90s were all about the biggest and baddest teams intimidating competition with shear size. With increasing european (initially russian), influence in the NHL, the game is being played with more skill and speed. Our hypothesis is that the top draft pics each year have been on average, lighter and shorter than they have been in the past. There are many data sources that provide this data and is downloadable for free as a csv file or we can web scrape data from the NHL roster website.\"\n",
    "\n",
    "We begin by indexing every team in the NHL from the official NHL website.\n",
    "\n",
    "__To begin, libraries must be imported. There are some that are not part of the default python package.__  \n",
    "Geckodriver and selenium are used, and firefox is used as the webdriver."
   ]
  },
  {
   "cell_type": "code",
   "execution_count": 2,
   "metadata": {},
   "outputs": [],
   "source": [
    "import time\n",
    "import numpy as np\n",
    "import pandas as pd\n",
    "\n",
    "from selenium import webdriver #to get nhl pages after scripts load\n",
    "from bs4 import BeautifulSoup\n",
    "import requests\n",
    "\n",
    "browser = webdriver.Firefox()\n",
    "base_url = 'https://records.nhl.com/draft/draft-picks?league=all&team=all&year='\n",
    "# page = requests.get(teams_url)\n",
    "# soup = BeautifulSoup(page.content, 'html.parser')"
   ]
  },
  {
   "cell_type": "markdown",
   "metadata": {},
   "source": [
    "__Function to get all first pick players from a specific year__"
   ]
  },
  {
   "cell_type": "code",
   "execution_count": 3,
   "metadata": {},
   "outputs": [],
   "source": [
    "def add_year_draft_data(year):\n",
    "    \n",
    "    global draft_df\n",
    "\n",
    "    year_url = base_url + str(year)\n",
    "    browser.get(year_url)\n",
    "\n",
    "    time.sleep(2)\n",
    "    soup = BeautifulSoup(browser.page_source, 'html.parser')\n",
    "    rows = soup.find_all('div', class_ = 'rt-tr-group')\n",
    "\n",
    "    for row in rows:\n",
    "        td = row.find_all('div', class_ = 'rt-td')\n",
    "        if (td[3].text == '1'):\n",
    "            draft_df = draft_df.append({'Name':td[1].text, 'Team':td[2].text, 'Pick':td[4].text, 'Position':td[6].text, 'Country':td[7].text, 'Height':td[8].text, 'Weight':td[9].text, 'Year':year}, ignore_index = True)\n",
    "    "
   ]
  },
  {
   "cell_type": "markdown",
   "metadata": {},
   "source": [
    "__Creating a dataframe to store the data, then using a loop to populate data from specific years.__  \n",
    "This loop takes a few minutes to complete because it has to load and run the scripts on each page to get the data."
   ]
  },
  {
   "cell_type": "code",
   "execution_count": 4,
   "metadata": {},
   "outputs": [],
   "source": [
    "draft_df = pd.DataFrame(columns=['Name', 'Team', 'Pick', 'Position', 'Country', 'Height', 'Weight', 'Year'])\n",
    "\n",
    "for year in range(1963, 2020):\n",
    "    add_year_draft_data(year)\n",
    "    time.sleep(0.5)"
   ]
  },
  {
   "cell_type": "code",
   "execution_count": 5,
   "metadata": {},
   "outputs": [
    {
     "data": {
      "text/html": [
       "<div>\n",
       "<style scoped>\n",
       "    .dataframe tbody tr th:only-of-type {\n",
       "        vertical-align: middle;\n",
       "    }\n",
       "\n",
       "    .dataframe tbody tr th {\n",
       "        vertical-align: top;\n",
       "    }\n",
       "\n",
       "    .dataframe thead th {\n",
       "        text-align: right;\n",
       "    }\n",
       "</style>\n",
       "<table border=\"1\" class=\"dataframe\">\n",
       "  <thead>\n",
       "    <tr style=\"text-align: right;\">\n",
       "      <th></th>\n",
       "      <th>Name</th>\n",
       "      <th>Team</th>\n",
       "      <th>Pick</th>\n",
       "      <th>Position</th>\n",
       "      <th>Country</th>\n",
       "      <th>Height</th>\n",
       "      <th>Weight</th>\n",
       "      <th>Year</th>\n",
       "    </tr>\n",
       "  </thead>\n",
       "  <tbody>\n",
       "    <tr>\n",
       "      <th>0</th>\n",
       "      <td>Garry Monahan</td>\n",
       "      <td>Montréal Canadiens</td>\n",
       "      <td>1</td>\n",
       "      <td>LW</td>\n",
       "      <td>CAN</td>\n",
       "      <td>6' 0\"</td>\n",
       "      <td>199</td>\n",
       "      <td>1963</td>\n",
       "    </tr>\n",
       "    <tr>\n",
       "      <th>1</th>\n",
       "      <td>Peter Mahovlich</td>\n",
       "      <td>Detroit Red Wings</td>\n",
       "      <td>2</td>\n",
       "      <td>C</td>\n",
       "      <td>CAN</td>\n",
       "      <td>6' 5\"</td>\n",
       "      <td>210</td>\n",
       "      <td>1963</td>\n",
       "    </tr>\n",
       "    <tr>\n",
       "      <th>2</th>\n",
       "      <td>Orest Romashyna</td>\n",
       "      <td>Boston Bruins</td>\n",
       "      <td>3</td>\n",
       "      <td>LW</td>\n",
       "      <td>DEU</td>\n",
       "      <td>5' 10\"</td>\n",
       "      <td>170</td>\n",
       "      <td>1963</td>\n",
       "    </tr>\n",
       "    <tr>\n",
       "      <th>3</th>\n",
       "      <td>Al Osborne</td>\n",
       "      <td>New York Rangers</td>\n",
       "      <td>4</td>\n",
       "      <td>RW</td>\n",
       "      <td>CAN</td>\n",
       "      <td>6' 0\"</td>\n",
       "      <td>180</td>\n",
       "      <td>1963</td>\n",
       "    </tr>\n",
       "    <tr>\n",
       "      <th>4</th>\n",
       "      <td>Art Hampson</td>\n",
       "      <td>Chicago Blackhawks</td>\n",
       "      <td>5</td>\n",
       "      <td>D</td>\n",
       "      <td>CAN</td>\n",
       "      <td></td>\n",
       "      <td></td>\n",
       "      <td>1963</td>\n",
       "    </tr>\n",
       "  </tbody>\n",
       "</table>\n",
       "</div>"
      ],
      "text/plain": [
       "              Name                Team Pick Position Country  Height Weight  \\\n",
       "0    Garry Monahan  Montréal Canadiens    1       LW     CAN   6' 0\"    199   \n",
       "1  Peter Mahovlich   Detroit Red Wings    2        C     CAN   6' 5\"    210   \n",
       "2  Orest Romashyna       Boston Bruins    3       LW     DEU  5' 10\"    170   \n",
       "3       Al Osborne    New York Rangers    4       RW     CAN   6' 0\"    180   \n",
       "4      Art Hampson  Chicago Blackhawks    5        D     CAN                  \n",
       "\n",
       "   Year  \n",
       "0  1963  \n",
       "1  1963  \n",
       "2  1963  \n",
       "3  1963  \n",
       "4  1963  "
      ]
     },
     "execution_count": 5,
     "metadata": {},
     "output_type": "execute_result"
    }
   ],
   "source": [
    "draft_df.head()"
   ]
  },
  {
   "cell_type": "markdown",
   "metadata": {},
   "source": [
    "__Speculations about this data set:__  \n",
    "Potential Problems with our dataset The number of teams from 1963 to 2020 varies between 6 to 31, therefore the the number of first round pics varies. Additionally we because the \"height\" category is a string, we will have to convert that column to an integer representing inches in order to calculate the difference over the years. Finally, certain players height is ommitted from the data set which we will either have to fill or remove them from the dataset. There are also osme missing data points as can see above. We will have to see how many are missing and see if we can manually fill them in if available. "
   ]
  }
 ],
 "metadata": {
  "kernelspec": {
   "display_name": "Python 3",
   "language": "python",
   "name": "python3"
  },
  "language_info": {
   "codemirror_mode": {
    "name": "ipython",
    "version": 3
   },
   "file_extension": ".py",
   "mimetype": "text/x-python",
   "name": "python",
   "nbconvert_exporter": "python",
   "pygments_lexer": "ipython3",
   "version": "3.7.6"
  }
 },
 "nbformat": 4,
 "nbformat_minor": 2
}
