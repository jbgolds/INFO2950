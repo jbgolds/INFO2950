{
 "cells": [
  {
   "cell_type": "markdown",
   "metadata": {},
   "source": [
    "FINAL IDEA FOR REFERENCE:\n",
    "\n",
    "\"Looking at time series data from NHL draft pics since 1960s. Over the years, there has been a drastic change in the style of hockey being played in the NHL. The 70s through the 90s were all about the biggest and baddest teams intimidating competition with shear size. With increasing european (initially russian), influence in the NHL, the game is being played with more skill and speed. Our hypothesis is that the top draft pics each year have been on average, lighter and shorter than they have been in the past. There are many data sources that provide this data and is downloadable for free as a csv file or we can web scrape data from the NHL roster website.\"\n",
    "\n",
    "We begin by indexing every team in the NHL from the official NHL website."
   ]
  },
  {
   "cell_type": "markdown",
   "metadata": {},
   "source": [
    "# I. Introduction\n",
    "--------------\n",
    "Introduction. \n",
    "- What is the context of the work? \n",
    "- What research question are you trying to answer? \n",
    "- What are your main findings? \n"
   ]
  },
  {
   "cell_type": "markdown",
   "metadata": {},
   "source": [
    "# II. Data Description\n",
    "--------------\n",
    "This should be inspired by the format presented in Gebru et al, 2018. \n",
    "https://arxiv.org/abs/1803.09010\n",
    "\n",
    "Answer the following questions:\n",
    "- What are the observations (rows) and the attributes (columns)?\n",
    "- Why was this dataset created?\n",
    "- Who funded the creation of the dataset?\n",
    "- What processes might have influenced what data was observed and recorded and what was not?\n",
    "- What preprocessing was done, and how did the data come to be in the form that you are using?\n",
    "- If people are involved, were they aware of the data collection and if so, what purpose did they expect the data to be used for?\n",
    "- Where can your raw source data be found, if applicable? Provide a link to the raw data (hosted in a Cornell Google Drive or Cornell Box). \n"
   ]
  },
  {
   "cell_type": "markdown",
   "metadata": {},
   "source": [
    "# III. Data Analysis\n",
    "--------------\n",
    "- Use summary functions like mean and standard deviation along with visual displays like scatter plots and histograms to describe data.\n",
    "- Provide at least one model showing patterns or relationships between variables that addresses your research question. This could be a regression or clustering, or something else that measures some property of the dataset.\n"
   ]
  },
  {
   "cell_type": "markdown",
   "metadata": {},
   "source": [
    "# IV. Evaluation of Significance\n",
    "--------------\n",
    "\n",
    "Use hypothesis tests, simulation, randomization, or any other techniques we have learned to compare the patterns you observe in the dataset to simple randomness. "
   ]
  },
  {
   "cell_type": "markdown",
   "metadata": {},
   "source": [
    "# V. Conclusion\n",
    "--------------\n",
    "\n",
    "What did you find over the course of your data analysis, and how confident are you in these conclusions? Interpret these results in the wider context of the real-life application from where your data hails.\n"
   ]
  },
  {
   "cell_type": "markdown",
   "metadata": {},
   "source": [
    "# VI. Source Code\n",
    "--------------\n",
    "\n",
    "Provide a link to your Github repository (or other file hosting site) that has all of your project code (if applicable). For example, you might include web scraping code or data filtering and aggregation code."
   ]
  },
  {
   "cell_type": "markdown",
   "metadata": {},
   "source": [
    "# VII. Acknowledgments\n",
    "--------------\n",
    "\n",
    "Recognize any people or online resources that you found helpful. These can be tutorials, software packages, Stack Overflow questions, peers, and data sources. Showing gratitude is a great way to feel happier! But it also has the nice side-effect of reassuring us that you're not passing off someone else's work as your own. Crossover with other courses is permitted and encouraged, but it must be clearly stated, and it must be obvious what parts were and were not done for 2950. Copying without attribution robs you of the chance to learn, and wastes our time investigating."
   ]
  },
  {
   "cell_type": "code",
   "execution_count": null,
   "metadata": {},
   "outputs": [],
   "source": []
  }
 ],
 "metadata": {
  "kernelspec": {
   "display_name": "Python 3",
   "language": "python",
   "name": "python3"
  },
  "language_info": {
   "codemirror_mode": {
    "name": "ipython",
    "version": 3
   },
   "file_extension": ".py",
   "mimetype": "text/x-python",
   "name": "python",
   "nbconvert_exporter": "python",
   "pygments_lexer": "ipython3",
   "version": "3.7.6"
  }
 },
 "nbformat": 4,
 "nbformat_minor": 4
}
